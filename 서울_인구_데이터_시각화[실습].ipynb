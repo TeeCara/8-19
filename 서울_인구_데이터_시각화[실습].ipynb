{
  "cells": [
    {
      "cell_type": "markdown",
      "metadata": {
        "id": "view-in-github",
        "colab_type": "text"
      },
      "source": [
        "<a href=\"https://colab.research.google.com/github/TeeCara/8-19/blob/main/%EC%84%9C%EC%9A%B8_%EC%9D%B8%EA%B5%AC_%EB%8D%B0%EC%9D%B4%ED%84%B0_%EC%8B%9C%EA%B0%81%ED%99%94%5B%EC%8B%A4%EC%8A%B5%5D.ipynb\" target=\"_parent\"><img src=\"https://colab.research.google.com/assets/colab-badge.svg\" alt=\"Open In Colab\"/></a>"
      ]
    },
    {
      "cell_type": "markdown",
      "id": "23ea32cb",
      "metadata": {
        "id": "23ea32cb"
      },
      "source": [
        "## [실습] 지도를 이용한 데이터 시각화하기"
      ]
    },
    {
      "cell_type": "markdown",
      "id": "7d33d44b",
      "metadata": {
        "id": "7d33d44b"
      },
      "source": [
        "##### [실습] 지도에 우리집 표시하기\n",
        "##### [미션] 여행가고 싶은 장소(국내외) 3곳을 지도에 다른 색상 마커로 표시하기\n",
        "##### [실습] 공공데이터 자료 지도에 표시하기\n",
        "##### [실습] 우리나라 경계구역 지도에 표시하기\n",
        "##### [실습] 서울지역 구별 인구수 지도에 시각화하기\n",
        "\n"
      ]
    },
    {
      "cell_type": "markdown",
      "id": "f3023518",
      "metadata": {
        "id": "f3023518"
      },
      "source": [
        "-------------------------------"
      ]
    },
    {
      "cell_type": "markdown",
      "id": "e7083bcd",
      "metadata": {
        "id": "e7083bcd"
      },
      "source": [
        "### 지도에 표시하기 위해 필요한 정보\n",
        "- **위도(Latitude)**: 가로선, 적도를 기준으로 북쪽/남쪽으로 얼마나 떨어져 있는지 나타내는 위치, 위도 1도는 대략 111km,\n",
        "- **경도(longitude)**: 세로선, 그리니치 천문대를 기준으로 동/서를 세로로 표시하는 선, 오른쪽 동경(East~180)/왼쪽 서경(West~180)"
      ]
    },
    {
      "cell_type": "markdown",
      "source": [
        "<img src = 'http://4.bp.blogspot.com/-7nTuhDQ2gSE/VYgQiE8sJzI/AAAAAAAAALw/JFVQKIhZyF4/s1600/This_is_a_basic_photo_showing_that_latitude_lines_are_horizontal_and_longitude_lines_are_vertical-_2014-07-25_20-36.jpg'>"
      ],
      "metadata": {
        "id": "rb4zPl2U9oMV"
      },
      "id": "rb4zPl2U9oMV"
    },
    {
      "cell_type": "markdown",
      "id": "fd1be52d",
      "metadata": {
        "id": "fd1be52d"
      },
      "source": [
        "- **우리나라의 위도 경도 **\n",
        "> 위도(33 ~ 43), 경도(124 ~ 132)"
      ]
    },
    {
      "cell_type": "markdown",
      "source": [
        "\n",
        "<img src = 'https://mblogthumb-phinf.pstatic.net/MjAxOTA3MTJfMTgg/MDAxNTYyOTAxMzQ0MzE0.KPkhwGuXiIxf5gKHa28kdazfvAFi8x_8pYqQf5wCgIIg.bFcsxsI-MmUaKUW_zBJWhCE6Z7mbbaI4z7a7NW6G2wog.PNG.lkokvse78/image.png?type=w800'>\n",
        "         \n",
        "\n"
      ],
      "metadata": {
        "id": "fUZjBavh-IRe"
      },
      "id": "fUZjBavh-IRe"
    },
    {
      "cell_type": "markdown",
      "id": "62d75e54",
      "metadata": {
        "id": "62d75e54"
      },
      "source": [
        "--------------"
      ]
    },
    {
      "cell_type": "markdown",
      "id": "77c57ff4",
      "metadata": {
        "id": "77c57ff4"
      },
      "source": [
        "# [실습] 지도에 내위치 표시하기"
      ]
    },
    {
      "cell_type": "markdown",
      "id": "c1e6e7d7",
      "metadata": {
        "id": "c1e6e7d7"
      },
      "source": [
        "#### 지도 라이브러리 folium\n",
        "- https://python-visualization.github.io/folium/\n",
        "\n",
        "- 인터랙티브 지도 시각화 라이브러리\n",
        "- Leaflet을 사용할 수 있는 leaflet.js 라이브러리를 파이썬에서 연동\n",
        "- 지도 상의 마커에서 vector, raster, HTML 시각화 가능\n",
        "- Choropleth 시각화\n",
        "- TileSet, Image, Video, GeoJSON, TopoJSON 연동\n",
        "\n",
        "    "
      ]
    },
    {
      "cell_type": "markdown",
      "id": "70d01b40",
      "metadata": {
        "id": "70d01b40"
      },
      "source": [
        "## 1. 지도 라이브러리 folium 설치"
      ]
    },
    {
      "cell_type": "code",
      "execution_count": null,
      "id": "fd2285cb",
      "metadata": {
        "id": "fd2285cb",
        "colab": {
          "base_uri": "https://localhost:8080/"
        },
        "outputId": "67ad810d-d26e-4e6b-c3de-063ba0394589"
      },
      "outputs": [
        {
          "output_type": "stream",
          "name": "stdout",
          "text": [
            "Requirement already satisfied: folium in /usr/local/lib/python3.10/dist-packages (0.17.0)\n",
            "Requirement already satisfied: branca>=0.6.0 in /usr/local/lib/python3.10/dist-packages (from folium) (0.7.2)\n",
            "Requirement already satisfied: jinja2>=2.9 in /usr/local/lib/python3.10/dist-packages (from folium) (3.1.4)\n",
            "Requirement already satisfied: numpy in /usr/local/lib/python3.10/dist-packages (from folium) (1.26.4)\n",
            "Requirement already satisfied: requests in /usr/local/lib/python3.10/dist-packages (from folium) (2.32.3)\n",
            "Requirement already satisfied: xyzservices in /usr/local/lib/python3.10/dist-packages (from folium) (2024.6.0)\n",
            "Requirement already satisfied: MarkupSafe>=2.0 in /usr/local/lib/python3.10/dist-packages (from jinja2>=2.9->folium) (2.1.5)\n",
            "Requirement already satisfied: charset-normalizer<4,>=2 in /usr/local/lib/python3.10/dist-packages (from requests->folium) (3.3.2)\n",
            "Requirement already satisfied: idna<4,>=2.5 in /usr/local/lib/python3.10/dist-packages (from requests->folium) (3.7)\n",
            "Requirement already satisfied: urllib3<3,>=1.21.1 in /usr/local/lib/python3.10/dist-packages (from requests->folium) (2.0.7)\n",
            "Requirement already satisfied: certifi>=2017.4.17 in /usr/local/lib/python3.10/dist-packages (from requests->folium) (2024.7.4)\n"
          ]
        }
      ],
      "source": [
        "#라이브러리 설치\n",
        "!pip install folium"
      ]
    },
    {
      "cell_type": "code",
      "execution_count": null,
      "id": "1eea0171",
      "metadata": {
        "id": "1eea0171",
        "colab": {
          "base_uri": "https://localhost:8080/",
          "height": 35
        },
        "outputId": "aecb38a0-cd1d-4f20-8889-da1272370197"
      },
      "outputs": [
        {
          "output_type": "execute_result",
          "data": {
            "text/plain": [
              "'0.17.0'"
            ],
            "application/vnd.google.colaboratory.intrinsic+json": {
              "type": "string"
            }
          },
          "metadata": {},
          "execution_count": 2
        }
      ],
      "source": [
        "import folium"
      ]
    },
    {
      "cell_type": "code",
      "source": [
        "#folium 함수 확인\n",
        "dir(folium)"
      ],
      "metadata": {
        "id": "FxaEpVtoNsh7"
      },
      "id": "FxaEpVtoNsh7",
      "execution_count": null,
      "outputs": []
    },
    {
      "cell_type": "code",
      "source": [
        "#map을 만들때 사용하는 요소들 확인\n",
        "help(folium.Map)"
      ],
      "metadata": {
        "id": "ltj2Nvq1Fah7"
      },
      "id": "ltj2Nvq1Fah7",
      "execution_count": null,
      "outputs": []
    },
    {
      "cell_type": "markdown",
      "id": "8adc066c",
      "metadata": {
        "id": "8adc066c"
      },
      "source": [
        "**굵은 텍스트**## 2. 우리집 주소 지도에 표시하기\n",
        "- 구글 지도 또는 네이버 지도 등에서 우리집 위도&경도 값 확인하기\n",
        "- 내장 map 종류: (        \"OpenStreetMap\"\n",
        " |       \"CartoDB Positron\"\n",
        " |      \"CartoDB Voyager\"')\n"
      ]
    },
    {
      "cell_type": "code",
      "source": [
        "m = folium.Map(location = [37.4348, 127.1459],\n",
        "               zoom_start= 19,\n",
        "               tiles= 'CartoDB Voyager',\n",
        "               width=850, height=600)\n",
        "\n",
        "m"
      ],
      "metadata": {
        "id": "1Bh9yTrD-q-h",
        "colab": {
          "base_uri": "https://localhost:8080/",
          "height": 530
        },
        "outputId": "6ce44171-7e8b-4d50-ec03-78624fa30214"
      },
      "id": "1Bh9yTrD-q-h",
      "execution_count": null,
      "outputs": [
        {
          "output_type": "execute_result",
          "data": {
            "text/plain": [
              "<folium.folium.Map at 0x7fad44ab6aa0>"
            ],
            "text/html": [
              "<div style=\"width:100%;\"><div style=\"position:relative;width:100%;height:0;padding-bottom:60%;\"><span style=\"color:#565656\">Make this Notebook Trusted to load map: File -> Trust Notebook</span><iframe srcdoc=\"&lt;!DOCTYPE html&gt;\n",
              "&lt;html&gt;\n",
              "&lt;head&gt;\n",
              "    \n",
              "    &lt;meta http-equiv=&quot;content-type&quot; content=&quot;text/html; charset=UTF-8&quot; /&gt;\n",
              "    \n",
              "        &lt;script&gt;\n",
              "            L_NO_TOUCH = false;\n",
              "            L_DISABLE_3D = false;\n",
              "        &lt;/script&gt;\n",
              "    \n",
              "    &lt;style&gt;html, body {width: 100%;height: 100%;margin: 0;padding: 0;}&lt;/style&gt;\n",
              "    &lt;style&gt;#map {position:absolute;top:0;bottom:0;right:0;left:0;}&lt;/style&gt;\n",
              "    &lt;script src=&quot;https://cdn.jsdelivr.net/npm/leaflet@1.9.3/dist/leaflet.js&quot;&gt;&lt;/script&gt;\n",
              "    &lt;script src=&quot;https://code.jquery.com/jquery-3.7.1.min.js&quot;&gt;&lt;/script&gt;\n",
              "    &lt;script src=&quot;https://cdn.jsdelivr.net/npm/bootstrap@5.2.2/dist/js/bootstrap.bundle.min.js&quot;&gt;&lt;/script&gt;\n",
              "    &lt;script src=&quot;https://cdnjs.cloudflare.com/ajax/libs/Leaflet.awesome-markers/2.0.2/leaflet.awesome-markers.js&quot;&gt;&lt;/script&gt;\n",
              "    &lt;link rel=&quot;stylesheet&quot; href=&quot;https://cdn.jsdelivr.net/npm/leaflet@1.9.3/dist/leaflet.css&quot;/&gt;\n",
              "    &lt;link rel=&quot;stylesheet&quot; href=&quot;https://cdn.jsdelivr.net/npm/bootstrap@5.2.2/dist/css/bootstrap.min.css&quot;/&gt;\n",
              "    &lt;link rel=&quot;stylesheet&quot; href=&quot;https://netdna.bootstrapcdn.com/bootstrap/3.0.0/css/bootstrap-glyphicons.css&quot;/&gt;\n",
              "    &lt;link rel=&quot;stylesheet&quot; href=&quot;https://cdn.jsdelivr.net/npm/@fortawesome/fontawesome-free@6.2.0/css/all.min.css&quot;/&gt;\n",
              "    &lt;link rel=&quot;stylesheet&quot; href=&quot;https://cdnjs.cloudflare.com/ajax/libs/Leaflet.awesome-markers/2.0.2/leaflet.awesome-markers.css&quot;/&gt;\n",
              "    &lt;link rel=&quot;stylesheet&quot; href=&quot;https://cdn.jsdelivr.net/gh/python-visualization/folium/folium/templates/leaflet.awesome.rotate.min.css&quot;/&gt;\n",
              "    \n",
              "            &lt;meta name=&quot;viewport&quot; content=&quot;width=device-width,\n",
              "                initial-scale=1.0, maximum-scale=1.0, user-scalable=no&quot; /&gt;\n",
              "            &lt;style&gt;\n",
              "                #map_a3a05d4ba5f2263543d87f7f57536727 {\n",
              "                    position: relative;\n",
              "                    width: 850.0px;\n",
              "                    height: 600.0px;\n",
              "                    left: 0.0%;\n",
              "                    top: 0.0%;\n",
              "                }\n",
              "                .leaflet-container { font-size: 1rem; }\n",
              "            &lt;/style&gt;\n",
              "        \n",
              "&lt;/head&gt;\n",
              "&lt;body&gt;\n",
              "    \n",
              "    \n",
              "            &lt;div class=&quot;folium-map&quot; id=&quot;map_a3a05d4ba5f2263543d87f7f57536727&quot; &gt;&lt;/div&gt;\n",
              "        \n",
              "&lt;/body&gt;\n",
              "&lt;script&gt;\n",
              "    \n",
              "    \n",
              "            var map_a3a05d4ba5f2263543d87f7f57536727 = L.map(\n",
              "                &quot;map_a3a05d4ba5f2263543d87f7f57536727&quot;,\n",
              "                {\n",
              "                    center: [37.4348, 127.1459],\n",
              "                    crs: L.CRS.EPSG3857,\n",
              "                    zoom: 19,\n",
              "                    zoomControl: true,\n",
              "                    preferCanvas: false,\n",
              "                }\n",
              "            );\n",
              "\n",
              "            \n",
              "\n",
              "        \n",
              "    \n",
              "            var tile_layer_1fe74439622311df5d4c511b40e8ecee = L.tileLayer(\n",
              "                &quot;https://{s}.basemaps.cartocdn.com/rastertiles/voyager/{z}/{x}/{y}{r}.png&quot;,\n",
              "                {&quot;attribution&quot;: &quot;\\u0026copy; \\u003ca href=\\&quot;https://www.openstreetmap.org/copyright\\&quot;\\u003eOpenStreetMap\\u003c/a\\u003e contributors \\u0026copy; \\u003ca href=\\&quot;https://carto.com/attributions\\&quot;\\u003eCARTO\\u003c/a\\u003e&quot;, &quot;detectRetina&quot;: false, &quot;maxNativeZoom&quot;: 20, &quot;maxZoom&quot;: 20, &quot;minZoom&quot;: 0, &quot;noWrap&quot;: false, &quot;opacity&quot;: 1, &quot;subdomains&quot;: &quot;abcd&quot;, &quot;tms&quot;: false}\n",
              "            );\n",
              "        \n",
              "    \n",
              "            tile_layer_1fe74439622311df5d4c511b40e8ecee.addTo(map_a3a05d4ba5f2263543d87f7f57536727);\n",
              "        \n",
              "&lt;/script&gt;\n",
              "&lt;/html&gt;\" style=\"position:absolute;width:100%;height:100%;left:0;top:0;border:none !important;\" allowfullscreen webkitallowfullscreen mozallowfullscreen></iframe></div></div>"
            ]
          },
          "metadata": {},
          "execution_count": 7
        }
      ]
    },
    {
      "cell_type": "code",
      "source": [
        "help(folium.Marker)"
      ],
      "metadata": {
        "id": "SYqT7RIh9piG"
      },
      "id": "SYqT7RIh9piG",
      "execution_count": null,
      "outputs": []
    },
    {
      "cell_type": "code",
      "execution_count": null,
      "id": "76a4d7d3",
      "metadata": {
        "id": "76a4d7d3",
        "colab": {
          "base_uri": "https://localhost:8080/",
          "height": 530
        },
        "outputId": "0c51b5d5-1919-457a-fd79-8bed83c482ef"
      },
      "outputs": [
        {
          "output_type": "execute_result",
          "data": {
            "text/plain": [
              "<folium.folium.Map at 0x7fad44ab6aa0>"
            ],
            "text/html": [
              "<div style=\"width:100%;\"><div style=\"position:relative;width:100%;height:0;padding-bottom:60%;\"><span style=\"color:#565656\">Make this Notebook Trusted to load map: File -> Trust Notebook</span><iframe srcdoc=\"&lt;!DOCTYPE html&gt;\n",
              "&lt;html&gt;\n",
              "&lt;head&gt;\n",
              "    \n",
              "    &lt;meta http-equiv=&quot;content-type&quot; content=&quot;text/html; charset=UTF-8&quot; /&gt;\n",
              "    \n",
              "        &lt;script&gt;\n",
              "            L_NO_TOUCH = false;\n",
              "            L_DISABLE_3D = false;\n",
              "        &lt;/script&gt;\n",
              "    \n",
              "    &lt;style&gt;html, body {width: 100%;height: 100%;margin: 0;padding: 0;}&lt;/style&gt;\n",
              "    &lt;style&gt;#map {position:absolute;top:0;bottom:0;right:0;left:0;}&lt;/style&gt;\n",
              "    &lt;script src=&quot;https://cdn.jsdelivr.net/npm/leaflet@1.9.3/dist/leaflet.js&quot;&gt;&lt;/script&gt;\n",
              "    &lt;script src=&quot;https://code.jquery.com/jquery-3.7.1.min.js&quot;&gt;&lt;/script&gt;\n",
              "    &lt;script src=&quot;https://cdn.jsdelivr.net/npm/bootstrap@5.2.2/dist/js/bootstrap.bundle.min.js&quot;&gt;&lt;/script&gt;\n",
              "    &lt;script src=&quot;https://cdnjs.cloudflare.com/ajax/libs/Leaflet.awesome-markers/2.0.2/leaflet.awesome-markers.js&quot;&gt;&lt;/script&gt;\n",
              "    &lt;link rel=&quot;stylesheet&quot; href=&quot;https://cdn.jsdelivr.net/npm/leaflet@1.9.3/dist/leaflet.css&quot;/&gt;\n",
              "    &lt;link rel=&quot;stylesheet&quot; href=&quot;https://cdn.jsdelivr.net/npm/bootstrap@5.2.2/dist/css/bootstrap.min.css&quot;/&gt;\n",
              "    &lt;link rel=&quot;stylesheet&quot; href=&quot;https://netdna.bootstrapcdn.com/bootstrap/3.0.0/css/bootstrap-glyphicons.css&quot;/&gt;\n",
              "    &lt;link rel=&quot;stylesheet&quot; href=&quot;https://cdn.jsdelivr.net/npm/@fortawesome/fontawesome-free@6.2.0/css/all.min.css&quot;/&gt;\n",
              "    &lt;link rel=&quot;stylesheet&quot; href=&quot;https://cdnjs.cloudflare.com/ajax/libs/Leaflet.awesome-markers/2.0.2/leaflet.awesome-markers.css&quot;/&gt;\n",
              "    &lt;link rel=&quot;stylesheet&quot; href=&quot;https://cdn.jsdelivr.net/gh/python-visualization/folium/folium/templates/leaflet.awesome.rotate.min.css&quot;/&gt;\n",
              "    \n",
              "            &lt;meta name=&quot;viewport&quot; content=&quot;width=device-width,\n",
              "                initial-scale=1.0, maximum-scale=1.0, user-scalable=no&quot; /&gt;\n",
              "            &lt;style&gt;\n",
              "                #map_a3a05d4ba5f2263543d87f7f57536727 {\n",
              "                    position: relative;\n",
              "                    width: 850.0px;\n",
              "                    height: 600.0px;\n",
              "                    left: 0.0%;\n",
              "                    top: 0.0%;\n",
              "                }\n",
              "                .leaflet-container { font-size: 1rem; }\n",
              "            &lt;/style&gt;\n",
              "        \n",
              "&lt;/head&gt;\n",
              "&lt;body&gt;\n",
              "    \n",
              "    \n",
              "            &lt;div class=&quot;folium-map&quot; id=&quot;map_a3a05d4ba5f2263543d87f7f57536727&quot; &gt;&lt;/div&gt;\n",
              "        \n",
              "&lt;/body&gt;\n",
              "&lt;script&gt;\n",
              "    \n",
              "    \n",
              "            var map_a3a05d4ba5f2263543d87f7f57536727 = L.map(\n",
              "                &quot;map_a3a05d4ba5f2263543d87f7f57536727&quot;,\n",
              "                {\n",
              "                    center: [37.4348, 127.1459],\n",
              "                    crs: L.CRS.EPSG3857,\n",
              "                    zoom: 19,\n",
              "                    zoomControl: true,\n",
              "                    preferCanvas: false,\n",
              "                }\n",
              "            );\n",
              "\n",
              "            \n",
              "\n",
              "        \n",
              "    \n",
              "            var tile_layer_1fe74439622311df5d4c511b40e8ecee = L.tileLayer(\n",
              "                &quot;https://{s}.basemaps.cartocdn.com/rastertiles/voyager/{z}/{x}/{y}{r}.png&quot;,\n",
              "                {&quot;attribution&quot;: &quot;\\u0026copy; \\u003ca href=\\&quot;https://www.openstreetmap.org/copyright\\&quot;\\u003eOpenStreetMap\\u003c/a\\u003e contributors \\u0026copy; \\u003ca href=\\&quot;https://carto.com/attributions\\&quot;\\u003eCARTO\\u003c/a\\u003e&quot;, &quot;detectRetina&quot;: false, &quot;maxNativeZoom&quot;: 20, &quot;maxZoom&quot;: 20, &quot;minZoom&quot;: 0, &quot;noWrap&quot;: false, &quot;opacity&quot;: 1, &quot;subdomains&quot;: &quot;abcd&quot;, &quot;tms&quot;: false}\n",
              "            );\n",
              "        \n",
              "    \n",
              "            tile_layer_1fe74439622311df5d4c511b40e8ecee.addTo(map_a3a05d4ba5f2263543d87f7f57536727);\n",
              "        \n",
              "    \n",
              "            tile_layer_1fe74439622311df5d4c511b40e8ecee.addTo(map_a3a05d4ba5f2263543d87f7f57536727);\n",
              "        \n",
              "    \n",
              "            var marker_bf7594346216838cbcee403d2843d282 = L.marker(\n",
              "                [37.4348, 127.1459],\n",
              "                {}\n",
              "            ).addTo(map_a3a05d4ba5f2263543d87f7f57536727);\n",
              "        \n",
              "    \n",
              "            var icon_ba2de267d4ee109ec2ab68a414dbcfc2 = L.AwesomeMarkers.icon(\n",
              "                {&quot;extraClasses&quot;: &quot;fa-rotate-0&quot;, &quot;icon&quot;: &quot;info-sign&quot;, &quot;iconColor&quot;: &quot;white&quot;, &quot;markerColor&quot;: &quot;red&quot;, &quot;prefix&quot;: &quot;glyphicon&quot;}\n",
              "            );\n",
              "            marker_bf7594346216838cbcee403d2843d282.setIcon(icon_ba2de267d4ee109ec2ab68a414dbcfc2);\n",
              "        \n",
              "    \n",
              "        var popup_1d1c15c52b3719c1bfee2bedc13902d2 = L.popup({&quot;maxWidth&quot;: &quot;100%&quot;});\n",
              "\n",
              "        \n",
              "            \n",
              "                var html_b95a81b5d08ee338ce4ffad7e9b845c0 = $(`&lt;div id=&quot;html_b95a81b5d08ee338ce4ffad7e9b845c0&quot; style=&quot;width: 100.0%; height: 100.0%;&quot;&gt;나 여기있다&lt;/div&gt;`)[0];\n",
              "                popup_1d1c15c52b3719c1bfee2bedc13902d2.setContent(html_b95a81b5d08ee338ce4ffad7e9b845c0);\n",
              "            \n",
              "        \n",
              "\n",
              "        marker_bf7594346216838cbcee403d2843d282.bindPopup(popup_1d1c15c52b3719c1bfee2bedc13902d2)\n",
              "        ;\n",
              "\n",
              "        \n",
              "    \n",
              "&lt;/script&gt;\n",
              "&lt;/html&gt;\" style=\"position:absolute;width:100%;height:100%;left:0;top:0;border:none !important;\" allowfullscreen webkitallowfullscreen mozallowfullscreen></iframe></div></div>"
            ]
          },
          "metadata": {},
          "execution_count": 9
        }
      ],
      "source": [
        "import folium\n",
        "import webbrowser   #파이썬 기본 라이브러리\n",
        "\n",
        "data = {'성일고':[37.4348, 127.1459]}\n",
        "\n",
        "# 성일고 [위도,경도]=[Latitude, longitude]\n",
        "# 구글맵에서 위도 경도 찾기\n",
        "\n",
        "folium.Marker(location = data['성일고'],\n",
        "              popup = '나 여기있다',\n",
        "              icon = folium.Icon(color = 'red', icon ='info-sign' ),\n",
        "              tooltip = '여기 주변으로 오시면 됩니다').add_to(m)\n",
        "\n",
        "m"
      ]
    },
    {
      "cell_type": "markdown",
      "source": [
        "#### IconColor : str, default 'blue'\n",
        "    The color of the marker. You can use:\n",
        "            ['red', 'blue', 'green', 'purple', 'orange', 'darkred',\n",
        "             'lightred', 'beige', 'darkblue', 'darkgreen', 'cadetblue',\n",
        "            'darkpurple', 'white', 'pink', 'lightblue', 'lightgreen',\n",
        "            'gray', 'black', 'lightgray']\n",
        "\n",
        "#### default icon [ falg, bookmark, star, home, info-sign ]"
      ],
      "metadata": {
        "id": "u9aKlkg842Ad"
      },
      "id": "u9aKlkg842Ad"
    },
    {
      "cell_type": "markdown",
      "id": "d7a1c034",
      "metadata": {
        "id": "d7a1c034"
      },
      "source": [
        "## 3. 선택한 위치 반경에 CircleMarker 표시하기\n",
        "- location Point [위도, 경도] 를 중심으로 radius 만큼의 원을 그립"
      ]
    },
    {
      "cell_type": "code",
      "execution_count": null,
      "id": "31854a35",
      "metadata": {
        "scrolled": true,
        "id": "31854a35",
        "colab": {
          "base_uri": "https://localhost:8080/",
          "height": 530
        },
        "outputId": "ed933910-663a-478b-c6eb-dfe139afb4a1"
      },
      "outputs": [
        {
          "output_type": "execute_result",
          "data": {
            "text/plain": [
              "<folium.folium.Map at 0x7fad44ab6aa0>"
            ],
            "text/html": [
              "<div style=\"width:100%;\"><div style=\"position:relative;width:100%;height:0;padding-bottom:60%;\"><span style=\"color:#565656\">Make this Notebook Trusted to load map: File -> Trust Notebook</span><iframe srcdoc=\"&lt;!DOCTYPE html&gt;\n",
              "&lt;html&gt;\n",
              "&lt;head&gt;\n",
              "    \n",
              "    &lt;meta http-equiv=&quot;content-type&quot; content=&quot;text/html; charset=UTF-8&quot; /&gt;\n",
              "    \n",
              "        &lt;script&gt;\n",
              "            L_NO_TOUCH = false;\n",
              "            L_DISABLE_3D = false;\n",
              "        &lt;/script&gt;\n",
              "    \n",
              "    &lt;style&gt;html, body {width: 100%;height: 100%;margin: 0;padding: 0;}&lt;/style&gt;\n",
              "    &lt;style&gt;#map {position:absolute;top:0;bottom:0;right:0;left:0;}&lt;/style&gt;\n",
              "    &lt;script src=&quot;https://cdn.jsdelivr.net/npm/leaflet@1.9.3/dist/leaflet.js&quot;&gt;&lt;/script&gt;\n",
              "    &lt;script src=&quot;https://code.jquery.com/jquery-3.7.1.min.js&quot;&gt;&lt;/script&gt;\n",
              "    &lt;script src=&quot;https://cdn.jsdelivr.net/npm/bootstrap@5.2.2/dist/js/bootstrap.bundle.min.js&quot;&gt;&lt;/script&gt;\n",
              "    &lt;script src=&quot;https://cdnjs.cloudflare.com/ajax/libs/Leaflet.awesome-markers/2.0.2/leaflet.awesome-markers.js&quot;&gt;&lt;/script&gt;\n",
              "    &lt;link rel=&quot;stylesheet&quot; href=&quot;https://cdn.jsdelivr.net/npm/leaflet@1.9.3/dist/leaflet.css&quot;/&gt;\n",
              "    &lt;link rel=&quot;stylesheet&quot; href=&quot;https://cdn.jsdelivr.net/npm/bootstrap@5.2.2/dist/css/bootstrap.min.css&quot;/&gt;\n",
              "    &lt;link rel=&quot;stylesheet&quot; href=&quot;https://netdna.bootstrapcdn.com/bootstrap/3.0.0/css/bootstrap-glyphicons.css&quot;/&gt;\n",
              "    &lt;link rel=&quot;stylesheet&quot; href=&quot;https://cdn.jsdelivr.net/npm/@fortawesome/fontawesome-free@6.2.0/css/all.min.css&quot;/&gt;\n",
              "    &lt;link rel=&quot;stylesheet&quot; href=&quot;https://cdnjs.cloudflare.com/ajax/libs/Leaflet.awesome-markers/2.0.2/leaflet.awesome-markers.css&quot;/&gt;\n",
              "    &lt;link rel=&quot;stylesheet&quot; href=&quot;https://cdn.jsdelivr.net/gh/python-visualization/folium/folium/templates/leaflet.awesome.rotate.min.css&quot;/&gt;\n",
              "    \n",
              "            &lt;meta name=&quot;viewport&quot; content=&quot;width=device-width,\n",
              "                initial-scale=1.0, maximum-scale=1.0, user-scalable=no&quot; /&gt;\n",
              "            &lt;style&gt;\n",
              "                #map_a3a05d4ba5f2263543d87f7f57536727 {\n",
              "                    position: relative;\n",
              "                    width: 850.0px;\n",
              "                    height: 600.0px;\n",
              "                    left: 0.0%;\n",
              "                    top: 0.0%;\n",
              "                }\n",
              "                .leaflet-container { font-size: 1rem; }\n",
              "            &lt;/style&gt;\n",
              "        \n",
              "&lt;/head&gt;\n",
              "&lt;body&gt;\n",
              "    \n",
              "    \n",
              "            &lt;div class=&quot;folium-map&quot; id=&quot;map_a3a05d4ba5f2263543d87f7f57536727&quot; &gt;&lt;/div&gt;\n",
              "        \n",
              "&lt;/body&gt;\n",
              "&lt;script&gt;\n",
              "    \n",
              "    \n",
              "            var map_a3a05d4ba5f2263543d87f7f57536727 = L.map(\n",
              "                &quot;map_a3a05d4ba5f2263543d87f7f57536727&quot;,\n",
              "                {\n",
              "                    center: [37.4348, 127.1459],\n",
              "                    crs: L.CRS.EPSG3857,\n",
              "                    zoom: 19,\n",
              "                    zoomControl: true,\n",
              "                    preferCanvas: false,\n",
              "                }\n",
              "            );\n",
              "\n",
              "            \n",
              "\n",
              "        \n",
              "    \n",
              "            var tile_layer_1fe74439622311df5d4c511b40e8ecee = L.tileLayer(\n",
              "                &quot;https://{s}.basemaps.cartocdn.com/rastertiles/voyager/{z}/{x}/{y}{r}.png&quot;,\n",
              "                {&quot;attribution&quot;: &quot;\\u0026copy; \\u003ca href=\\&quot;https://www.openstreetmap.org/copyright\\&quot;\\u003eOpenStreetMap\\u003c/a\\u003e contributors \\u0026copy; \\u003ca href=\\&quot;https://carto.com/attributions\\&quot;\\u003eCARTO\\u003c/a\\u003e&quot;, &quot;detectRetina&quot;: false, &quot;maxNativeZoom&quot;: 20, &quot;maxZoom&quot;: 20, &quot;minZoom&quot;: 0, &quot;noWrap&quot;: false, &quot;opacity&quot;: 1, &quot;subdomains&quot;: &quot;abcd&quot;, &quot;tms&quot;: false}\n",
              "            );\n",
              "        \n",
              "    \n",
              "            tile_layer_1fe74439622311df5d4c511b40e8ecee.addTo(map_a3a05d4ba5f2263543d87f7f57536727);\n",
              "        \n",
              "    \n",
              "            tile_layer_1fe74439622311df5d4c511b40e8ecee.addTo(map_a3a05d4ba5f2263543d87f7f57536727);\n",
              "        \n",
              "    \n",
              "            var marker_bf7594346216838cbcee403d2843d282 = L.marker(\n",
              "                [37.4348, 127.1459],\n",
              "                {}\n",
              "            ).addTo(map_a3a05d4ba5f2263543d87f7f57536727);\n",
              "        \n",
              "    \n",
              "            var icon_ba2de267d4ee109ec2ab68a414dbcfc2 = L.AwesomeMarkers.icon(\n",
              "                {&quot;extraClasses&quot;: &quot;fa-rotate-0&quot;, &quot;icon&quot;: &quot;info-sign&quot;, &quot;iconColor&quot;: &quot;white&quot;, &quot;markerColor&quot;: &quot;red&quot;, &quot;prefix&quot;: &quot;glyphicon&quot;}\n",
              "            );\n",
              "            marker_bf7594346216838cbcee403d2843d282.setIcon(icon_ba2de267d4ee109ec2ab68a414dbcfc2);\n",
              "        \n",
              "    \n",
              "        var popup_1d1c15c52b3719c1bfee2bedc13902d2 = L.popup({&quot;maxWidth&quot;: &quot;100%&quot;});\n",
              "\n",
              "        \n",
              "            \n",
              "                var html_b95a81b5d08ee338ce4ffad7e9b845c0 = $(`&lt;div id=&quot;html_b95a81b5d08ee338ce4ffad7e9b845c0&quot; style=&quot;width: 100.0%; height: 100.0%;&quot;&gt;나 여기있다&lt;/div&gt;`)[0];\n",
              "                popup_1d1c15c52b3719c1bfee2bedc13902d2.setContent(html_b95a81b5d08ee338ce4ffad7e9b845c0);\n",
              "            \n",
              "        \n",
              "\n",
              "        marker_bf7594346216838cbcee403d2843d282.bindPopup(popup_1d1c15c52b3719c1bfee2bedc13902d2)\n",
              "        ;\n",
              "\n",
              "        \n",
              "    \n",
              "    \n",
              "            tile_layer_1fe74439622311df5d4c511b40e8ecee.addTo(map_a3a05d4ba5f2263543d87f7f57536727);\n",
              "        \n",
              "    \n",
              "            var circle_marker_3c0409cef1b6dacba4b6a3a5d9aa5111 = L.circleMarker(\n",
              "                [37.4348, 127.1459],\n",
              "                {&quot;bubblingMouseEvents&quot;: true, &quot;color&quot;: &quot;#ffffff&quot;, &quot;dashArray&quot;: null, &quot;dashOffset&quot;: null, &quot;fill&quot;: true, &quot;fillColor&quot;: &quot;#ff3366&quot;, &quot;fillOpacity&quot;: 0.2, &quot;fillRule&quot;: &quot;evenodd&quot;, &quot;lineCap&quot;: &quot;round&quot;, &quot;lineJoin&quot;: &quot;round&quot;, &quot;opacity&quot;: 1.0, &quot;radius&quot;: 100, &quot;stroke&quot;: true, &quot;weight&quot;: 3}\n",
              "            ).addTo(map_a3a05d4ba5f2263543d87f7f57536727);\n",
              "        \n",
              "    \n",
              "        var popup_7cab166832dcc57fafc62538ef814f59 = L.popup({&quot;maxWidth&quot;: &quot;100%&quot;});\n",
              "\n",
              "        \n",
              "            \n",
              "                var html_4935ccdf659f71e311b5960ee9714ade = $(`&lt;div id=&quot;html_4935ccdf659f71e311b5960ee9714ade&quot; style=&quot;width: 100.0%; height: 100.0%;&quot;&gt;여기있다&lt;/div&gt;`)[0];\n",
              "                popup_7cab166832dcc57fafc62538ef814f59.setContent(html_4935ccdf659f71e311b5960ee9714ade);\n",
              "            \n",
              "        \n",
              "\n",
              "        circle_marker_3c0409cef1b6dacba4b6a3a5d9aa5111.bindPopup(popup_7cab166832dcc57fafc62538ef814f59)\n",
              "        ;\n",
              "\n",
              "        \n",
              "    \n",
              "    \n",
              "            circle_marker_3c0409cef1b6dacba4b6a3a5d9aa5111.bindTooltip(\n",
              "                `&lt;div&gt;\n",
              "                     성일고\n",
              "                 &lt;/div&gt;`,\n",
              "                {&quot;sticky&quot;: true}\n",
              "            );\n",
              "        \n",
              "&lt;/script&gt;\n",
              "&lt;/html&gt;\" style=\"position:absolute;width:100%;height:100%;left:0;top:0;border:none !important;\" allowfullscreen webkitallowfullscreen mozallowfullscreen></iframe></div></div>"
            ]
          },
          "metadata": {},
          "execution_count": 10
        }
      ],
      "source": [
        "folium.CircleMarker(location = data['성일고'], #위치\n",
        "                    radius = 100,       #원 크기반경\n",
        "                    fill = True,        #원 칠한건지\n",
        "                    color = '#ffffff',  #원의 테두리 색\n",
        "                    fill_color = '#ff3366', #원 내부색\n",
        "                    popup = '여기있다',   #클릭했을때\n",
        "                    tooltip= '성일고').add_to(m)\n",
        "\n",
        "m"
      ]
    },
    {
      "cell_type": "markdown",
      "id": "31233038",
      "metadata": {
        "id": "31233038"
      },
      "source": [
        "## 4. html 파일로 저장하기"
      ]
    },
    {
      "cell_type": "code",
      "execution_count": null,
      "id": "220e55dd",
      "metadata": {
        "id": "220e55dd"
      },
      "outputs": [],
      "source": [
        "# html 파일로 저장하기\n",
        "m.save('my_map.html')\n",
        "\n",
        "#구글드라이브 클라우드에 저장된 파일 확인"
      ]
    },
    {
      "cell_type": "markdown",
      "id": "b1f9be01",
      "metadata": {
        "id": "b1f9be01"
      },
      "source": [
        "# [미션] 여행가고 싶은 장소(국내외) 3곳을 지도에 다른 색상 마커로 표시하기\n",
        "\n",
        "<< 예시 >>\n",
        "- 영국-내셔널 갤러리: 51.508929,-0.128299\n",
        "- 뉴욕-브로드웨이: 40.8124199,-73.9627283\n",
        "- 로마-트레비 분수: 41.9010333,12.4810789\n",
        "\n",
        "- 스위스-베른 :46.9479186, 7.4475288\n",
        "- 바르셀로나 - 사그라다 파밀리아:41.4036299,2.1743558\n",
        "- 몽골 -고비사막 : 42.7951536 ,105.0323635\n",
        "\n"
      ]
    },
    {
      "cell_type": "code",
      "execution_count": 32,
      "id": "f4b20a2b",
      "metadata": {
        "id": "f4b20a2b",
        "outputId": "878794c8-b730-4313-cf81-e8c7dc944247",
        "colab": {
          "base_uri": "https://localhost:8080/",
          "height": 914
        }
      },
      "outputs": [
        {
          "output_type": "execute_result",
          "data": {
            "text/plain": [
              "<folium.folium.Map at 0x7e6dfaba22f0>"
            ],
            "text/html": [
              "<div style=\"width:100%;\"><div style=\"position:relative;width:100%;height:0;padding-bottom:60%;\"><span style=\"color:#565656\">Make this Notebook Trusted to load map: File -> Trust Notebook</span><iframe srcdoc=\"&lt;!DOCTYPE html&gt;\n",
              "&lt;html&gt;\n",
              "&lt;head&gt;\n",
              "    \n",
              "    &lt;meta http-equiv=&quot;content-type&quot; content=&quot;text/html; charset=UTF-8&quot; /&gt;\n",
              "    \n",
              "        &lt;script&gt;\n",
              "            L_NO_TOUCH = false;\n",
              "            L_DISABLE_3D = false;\n",
              "        &lt;/script&gt;\n",
              "    \n",
              "    &lt;style&gt;html, body {width: 100%;height: 100%;margin: 0;padding: 0;}&lt;/style&gt;\n",
              "    &lt;style&gt;#map {position:absolute;top:0;bottom:0;right:0;left:0;}&lt;/style&gt;\n",
              "    &lt;script src=&quot;https://cdn.jsdelivr.net/npm/leaflet@1.9.3/dist/leaflet.js&quot;&gt;&lt;/script&gt;\n",
              "    &lt;script src=&quot;https://code.jquery.com/jquery-3.7.1.min.js&quot;&gt;&lt;/script&gt;\n",
              "    &lt;script src=&quot;https://cdn.jsdelivr.net/npm/bootstrap@5.2.2/dist/js/bootstrap.bundle.min.js&quot;&gt;&lt;/script&gt;\n",
              "    &lt;script src=&quot;https://cdnjs.cloudflare.com/ajax/libs/Leaflet.awesome-markers/2.0.2/leaflet.awesome-markers.js&quot;&gt;&lt;/script&gt;\n",
              "    &lt;link rel=&quot;stylesheet&quot; href=&quot;https://cdn.jsdelivr.net/npm/leaflet@1.9.3/dist/leaflet.css&quot;/&gt;\n",
              "    &lt;link rel=&quot;stylesheet&quot; href=&quot;https://cdn.jsdelivr.net/npm/bootstrap@5.2.2/dist/css/bootstrap.min.css&quot;/&gt;\n",
              "    &lt;link rel=&quot;stylesheet&quot; href=&quot;https://netdna.bootstrapcdn.com/bootstrap/3.0.0/css/bootstrap-glyphicons.css&quot;/&gt;\n",
              "    &lt;link rel=&quot;stylesheet&quot; href=&quot;https://cdn.jsdelivr.net/npm/@fortawesome/fontawesome-free@6.2.0/css/all.min.css&quot;/&gt;\n",
              "    &lt;link rel=&quot;stylesheet&quot; href=&quot;https://cdnjs.cloudflare.com/ajax/libs/Leaflet.awesome-markers/2.0.2/leaflet.awesome-markers.css&quot;/&gt;\n",
              "    &lt;link rel=&quot;stylesheet&quot; href=&quot;https://cdn.jsdelivr.net/gh/python-visualization/folium/folium/templates/leaflet.awesome.rotate.min.css&quot;/&gt;\n",
              "    \n",
              "            &lt;meta name=&quot;viewport&quot; content=&quot;width=device-width,\n",
              "                initial-scale=1.0, maximum-scale=1.0, user-scalable=no&quot; /&gt;\n",
              "            &lt;style&gt;\n",
              "                #map_ef199babb7777d542c1d15913532737a {\n",
              "                    position: relative;\n",
              "                    width: 100.0%;\n",
              "                    height: 100.0%;\n",
              "                    left: 0.0%;\n",
              "                    top: 0.0%;\n",
              "                }\n",
              "                .leaflet-container { font-size: 1rem; }\n",
              "            &lt;/style&gt;\n",
              "        \n",
              "&lt;/head&gt;\n",
              "&lt;body&gt;\n",
              "    \n",
              "    \n",
              "            &lt;div class=&quot;folium-map&quot; id=&quot;map_ef199babb7777d542c1d15913532737a&quot; &gt;&lt;/div&gt;\n",
              "        \n",
              "&lt;/body&gt;\n",
              "&lt;script&gt;\n",
              "    \n",
              "    \n",
              "            var map_ef199babb7777d542c1d15913532737a = L.map(\n",
              "                &quot;map_ef199babb7777d542c1d15913532737a&quot;,\n",
              "                {\n",
              "                    center: [0.0, 0.0],\n",
              "                    crs: L.CRS.EPSG3857,\n",
              "                    zoom: 1,\n",
              "                    zoomControl: true,\n",
              "                    preferCanvas: false,\n",
              "                }\n",
              "            );\n",
              "\n",
              "            \n",
              "\n",
              "        \n",
              "    \n",
              "            var tile_layer_c6e0e843d081c6ba6345a1832097ecc9 = L.tileLayer(\n",
              "                &quot;https://tile.openstreetmap.org/{z}/{x}/{y}.png&quot;,\n",
              "                {&quot;attribution&quot;: &quot;\\u0026copy; \\u003ca href=\\&quot;https://www.openstreetmap.org/copyright\\&quot;\\u003eOpenStreetMap\\u003c/a\\u003e contributors&quot;, &quot;detectRetina&quot;: false, &quot;maxNativeZoom&quot;: 19, &quot;maxZoom&quot;: 19, &quot;minZoom&quot;: 0, &quot;noWrap&quot;: false, &quot;opacity&quot;: 1, &quot;subdomains&quot;: &quot;abc&quot;, &quot;tms&quot;: false}\n",
              "            );\n",
              "        \n",
              "    \n",
              "            tile_layer_c6e0e843d081c6ba6345a1832097ecc9.addTo(map_ef199babb7777d542c1d15913532737a);\n",
              "        \n",
              "    \n",
              "            var marker_ab8d3568798225f7c7ef126c3c4af89c = L.marker(\n",
              "                [35.69624284108786, 139.57043712141385],\n",
              "                {}\n",
              "            ).addTo(map_ef199babb7777d542c1d15913532737a);\n",
              "        \n",
              "    \n",
              "            var icon_a8d749efa45fb3bb0e4d66e523e019b2 = L.AwesomeMarkers.icon(\n",
              "                {&quot;extraClasses&quot;: &quot;fa-rotate-0&quot;, &quot;icon&quot;: &quot;star&quot;, &quot;iconColor&quot;: &quot;white&quot;, &quot;markerColor&quot;: &quot;red&quot;, &quot;prefix&quot;: &quot;glyphicon&quot;}\n",
              "            );\n",
              "            marker_ab8d3568798225f7c7ef126c3c4af89c.setIcon(icon_a8d749efa45fb3bb0e4d66e523e019b2);\n",
              "        \n",
              "    \n",
              "        var popup_6e516ad1c7c85c07948e3115e992d82d = L.popup({&quot;maxWidth&quot;: &quot;100%&quot;});\n",
              "\n",
              "        \n",
              "            \n",
              "                var html_63988cfd4fa246762303ad012e1a5f52 = $(`&lt;div id=&quot;html_63988cfd4fa246762303ad012e1a5f52&quot; style=&quot;width: 100.0%; height: 100.0%;&quot;&gt;제일 가고 싶은 곳&lt;/div&gt;`)[0];\n",
              "                popup_6e516ad1c7c85c07948e3115e992d82d.setContent(html_63988cfd4fa246762303ad012e1a5f52);\n",
              "            \n",
              "        \n",
              "\n",
              "        marker_ab8d3568798225f7c7ef126c3c4af89c.bindPopup(popup_6e516ad1c7c85c07948e3115e992d82d)\n",
              "        ;\n",
              "\n",
              "        \n",
              "    \n",
              "    \n",
              "            marker_ab8d3568798225f7c7ef126c3c4af89c.bindTooltip(\n",
              "                `&lt;div&gt;\n",
              "                     꼭 가봐야 한다\n",
              "                 &lt;/div&gt;`,\n",
              "                {&quot;sticky&quot;: true}\n",
              "            );\n",
              "        \n",
              "    \n",
              "            var marker_5fba8f808251d1ae6dae90bfd90b3700 = L.marker(\n",
              "                [41.9010333, 12.4810789],\n",
              "                {}\n",
              "            ).addTo(map_ef199babb7777d542c1d15913532737a);\n",
              "        \n",
              "    \n",
              "            var icon_a74dac2decc8b25dba774c894f12d7b7 = L.AwesomeMarkers.icon(\n",
              "                {&quot;extraClasses&quot;: &quot;fa-rotate-0&quot;, &quot;icon&quot;: &quot;info_sign&quot;, &quot;iconColor&quot;: &quot;white&quot;, &quot;markerColor&quot;: &quot;blue&quot;, &quot;prefix&quot;: &quot;glyphicon&quot;}\n",
              "            );\n",
              "            marker_5fba8f808251d1ae6dae90bfd90b3700.setIcon(icon_a74dac2decc8b25dba774c894f12d7b7);\n",
              "        \n",
              "    \n",
              "        var popup_9bf3b6ecb69ab288e22d1c5209676e1c = L.popup({&quot;maxWidth&quot;: &quot;100%&quot;});\n",
              "\n",
              "        \n",
              "            \n",
              "                var html_7e13526fab5286931720d11a0dc4da46 = $(`&lt;div id=&quot;html_7e13526fab5286931720d11a0dc4da46&quot; style=&quot;width: 100.0%; height: 100.0%;&quot;&gt;콜로세움&lt;/div&gt;`)[0];\n",
              "                popup_9bf3b6ecb69ab288e22d1c5209676e1c.setContent(html_7e13526fab5286931720d11a0dc4da46);\n",
              "            \n",
              "        \n",
              "\n",
              "        marker_5fba8f808251d1ae6dae90bfd90b3700.bindPopup(popup_9bf3b6ecb69ab288e22d1c5209676e1c)\n",
              "        ;\n",
              "\n",
              "        \n",
              "    \n",
              "    \n",
              "            marker_5fba8f808251d1ae6dae90bfd90b3700.bindTooltip(\n",
              "                `&lt;div&gt;\n",
              "                     로마\n",
              "                 &lt;/div&gt;`,\n",
              "                {&quot;sticky&quot;: true}\n",
              "            );\n",
              "        \n",
              "    \n",
              "            var marker_8c3a9b93b1ba7f8edcafe1dbbf40a8c3 = L.marker(\n",
              "                [48.8597289985968, 2.2962207124381893],\n",
              "                {}\n",
              "            ).addTo(map_ef199babb7777d542c1d15913532737a);\n",
              "        \n",
              "    \n",
              "            var icon_b3caae140e6c20b0aa96bcdb49f6d9d6 = L.AwesomeMarkers.icon(\n",
              "                {&quot;extraClasses&quot;: &quot;fa-rotate-0&quot;, &quot;icon&quot;: &quot;info_sign&quot;, &quot;iconColor&quot;: &quot;white&quot;, &quot;markerColor&quot;: &quot;green&quot;, &quot;prefix&quot;: &quot;glyphicon&quot;}\n",
              "            );\n",
              "            marker_8c3a9b93b1ba7f8edcafe1dbbf40a8c3.setIcon(icon_b3caae140e6c20b0aa96bcdb49f6d9d6);\n",
              "        \n",
              "    \n",
              "        var popup_0ff5df4fca70e0bd306cd9c1fc084a39 = L.popup({&quot;maxWidth&quot;: &quot;100%&quot;});\n",
              "\n",
              "        \n",
              "            \n",
              "                var html_fb21fcd445894727b6a2712c21cf7313 = $(`&lt;div id=&quot;html_fb21fcd445894727b6a2712c21cf7313&quot; style=&quot;width: 100.0%; height: 100.0%;&quot;&gt;에펠탑&lt;/div&gt;`)[0];\n",
              "                popup_0ff5df4fca70e0bd306cd9c1fc084a39.setContent(html_fb21fcd445894727b6a2712c21cf7313);\n",
              "            \n",
              "        \n",
              "\n",
              "        marker_8c3a9b93b1ba7f8edcafe1dbbf40a8c3.bindPopup(popup_0ff5df4fca70e0bd306cd9c1fc084a39)\n",
              "        ;\n",
              "\n",
              "        \n",
              "    \n",
              "    \n",
              "            marker_8c3a9b93b1ba7f8edcafe1dbbf40a8c3.bindTooltip(\n",
              "                `&lt;div&gt;\n",
              "                     프랑스\n",
              "                 &lt;/div&gt;`,\n",
              "                {&quot;sticky&quot;: true}\n",
              "            );\n",
              "        \n",
              "    \n",
              "            tile_layer_c6e0e843d081c6ba6345a1832097ecc9.addTo(map_ef199babb7777d542c1d15913532737a);\n",
              "        \n",
              "&lt;/script&gt;\n",
              "&lt;/html&gt;\" style=\"position:absolute;width:100%;height:100%;left:0;top:0;border:none !important;\" allowfullscreen webkitallowfullscreen mozallowfullscreen></iframe></div></div>"
            ]
          },
          "metadata": {},
          "execution_count": 32
        }
      ],
      "source": [
        "# 위치를 딕셔너리 형태로 저장\n",
        "buckets = {'일본 도쿄' : [35.69624284108786, 139.57043712141385], '로마':[41.9010333,12.4810789], '프랑스 파리' : [48.8597289985968, 2.2962207124381893]}\n",
        "\n",
        "\n",
        "# 맵생성, 위치, 확대크기, 지도스타일 지정\n",
        "m = folium.Map( )\n",
        "\n",
        "\n",
        "#마커 생성(위치, 아이콘(아이콘모양, 컬러),팝업, 툴팁) 지도에 마커 추가\n",
        "folium.Marker(location = buckets['일본 도쿄'],\n",
        "              popup = '제일 가고 싶은 곳',\n",
        "              icon = folium.Icon(color = 'red', icon ='star' ),\n",
        "              tooltip= '꼭 가봐야 한다').add_to(m)\n",
        "\n",
        "\n",
        "#마커 생성(위치, 아이콘(아이콘모양, 컬러),팝업, 툴팁) 과 지도에 마커추가\n",
        "folium.Marker(location = buckets['로마'],\n",
        "              popup = '콜로세움',\n",
        "              icon = folium.Icon(color = 'blue', icon ='info_sign' ),\n",
        "              tooltip='로마').add_to(m)\n",
        "\n",
        "\n",
        "#마커 생성(위치, 아이콘(아이콘모양, 컬러),팝업, 툴팁) 과 지도에 마커추가\n",
        "folium.Marker(location = buckets['프랑스 파리'],\n",
        "              popup = '에펠탑',\n",
        "              icon = folium.Icon(color = 'green', icon ='info_sign' ),\n",
        "              tooltip= '프랑스').add_to(m)\n",
        "\n",
        "m.save('map_mytravel.html')\n",
        "#webbrowser.open('c:/python/dataAnalysis/data/map_mytravel.html')\n",
        "# 주피터노트북 사용시 내컴퓨터의 파일을 가져올수 있음.fullpath를 사용해야 오류가 없다\n",
        "m"
      ]
    },
    {
      "cell_type": "markdown",
      "id": "eeebf4ce",
      "metadata": {
        "id": "eeebf4ce"
      },
      "source": [
        "--------------------"
      ]
    },
    {
      "cell_type": "markdown",
      "source": [
        "# [실습]공공데이터 포털 자료 이용하기\n",
        "\n",
        "https://www.data.go.kr/"
      ],
      "metadata": {
        "id": "mUjz1yjOLdAX"
      },
      "id": "mUjz1yjOLdAX"
    },
    {
      "cell_type": "code",
      "execution_count": null,
      "metadata": {
        "id": "phEQVoyQLcQ-"
      },
      "outputs": [],
      "source": [
        "import pandas as pd   #판다스 라이브러리\n",
        "import chardet   # 파일의 인코딩 확인 라이브러리\n",
        "\n",
        "# 파일의 인코딩 확인\n",
        "with open(\"/content/sample_data/restaurants.csv\", 'rb') as rawdata:\n",
        "    result = chardet.detect(rawdata.read(100000)) # 100000 바이트 샘플링\n",
        "\n",
        "# 확인된 인코딩을 사용하여 파일 읽기\n",
        "df = pd.read_csv(\"/content/sample_data/restaurants.csv\", encoding=result['encoding'])\n",
        "\n",
        "print()    # 인코딩 결과값 확인 딕셔너리 형태\n",
        "print()   # 확인된 파일의 갯수\n",
        "print()  # 파일의 컬럼 출력\n",
        "df.head()         #파일출력 상위 5개 까지"
      ],
      "id": "phEQVoyQLcQ-"
    },
    {
      "cell_type": "markdown",
      "source": [
        "## 위도, 경도, 업소명, 소재지를 꺼내 리스트 만들기"
      ],
      "metadata": {
        "id": "HttMzODzVZRI"
      },
      "id": "HttMzODzVZRI"
    },
    {
      "cell_type": "code",
      "source": [
        "store =\n",
        "print()\n",
        "print()\n"
      ],
      "metadata": {
        "id": "ADnMo4P4Qy_J"
      },
      "execution_count": null,
      "outputs": [],
      "id": "ADnMo4P4Qy_J"
    },
    {
      "cell_type": "markdown",
      "source": [
        "##  가게의 위치 데이터를 지도에 표시"
      ],
      "metadata": {
        "id": "OI2Y0d5xWQph"
      },
      "id": "OI2Y0d5xWQph"
    },
    {
      "cell_type": "code",
      "source": [
        "import folium"
      ],
      "metadata": {
        "id": "Gydq_nykV136"
      },
      "execution_count": null,
      "outputs": [],
      "id": "Gydq_nykV136"
    },
    {
      "cell_type": "code",
      "source": [
        "# 딕셔너리를 만드는데 key는 업소명, value는 위도와 경도로 구성\n",
        "\n",
        "store_dict =\n",
        "print(store_dict)\n"
      ],
      "metadata": {
        "id": "d2O-B0CDWmJt"
      },
      "execution_count": null,
      "outputs": [],
      "id": "d2O-B0CDWmJt"
    },
    {
      "cell_type": "markdown",
      "source": [
        "* store.set_index('업소명')  : 엑셀 파일에서 가게 이름을 첫 번째 기준으로 삼아서 정보를 재정렬\n",
        "\n",
        "* T : 'Transpose'의 약자로, 가로와 세로를 바꿔주는 역할\n",
        "    - 엑셀 파일에서는 가게 이름이 세로로, 위도와 경도가 가로로 나열되어 있음\n",
        "    - 가게 이름을 가로로, 위도와 경도를 세로로 나열해야 지도에 표시하기 쉬움\n",
        "* to_dict('list') : 리스트를 딕셔너리로 바꿔줌\n"
      ],
      "metadata": {
        "id": "l440rnHSXJ_O"
      },
      "id": "l440rnHSXJ_O"
    },
    {
      "cell_type": "code",
      "source": [
        "#지도 생성\n",
        "m = folium.Map()\n",
        "\n",
        "#store_dict 데이터를 지도에 마커로 추가\n"
      ],
      "metadata": {
        "id": "zbbxIAs4WaN7"
      },
      "execution_count": null,
      "outputs": [],
      "id": "zbbxIAs4WaN7"
    },
    {
      "cell_type": "code",
      "source": [
        "m.save('/content/sample_data/jejuStore.html')"
      ],
      "metadata": {
        "id": "FwzAO8XS1INI"
      },
      "execution_count": null,
      "outputs": [],
      "id": "FwzAO8XS1INI"
    },
    {
      "cell_type": "markdown",
      "source": [
        "\n",
        "\n",
        "---\n",
        "\n"
      ],
      "metadata": {
        "id": "BIL4Sm2Y-5vC"
      },
      "id": "BIL4Sm2Y-5vC"
    },
    {
      "cell_type": "code",
      "source": [
        "from google.colab import drive\n",
        "drive.mount('/content/drive')"
      ],
      "metadata": {
        "id": "50rM1n6hreAz"
      },
      "execution_count": null,
      "outputs": [],
      "id": "50rM1n6hreAz"
    },
    {
      "cell_type": "markdown",
      "source": [
        "\n",
        "\n",
        "---\n",
        "\n"
      ],
      "metadata": {
        "id": "D82cVSk7-7lr"
      },
      "id": "D82cVSk7-7lr"
    },
    {
      "cell_type": "markdown",
      "id": "9458ef75",
      "metadata": {
        "id": "9458ef75"
      },
      "source": [
        "#[실습] 우리나라 행정구역 경계 지도에 표시하기"
      ]
    },
    {
      "cell_type": "markdown",
      "id": "3d400954",
      "metadata": {
        "id": "3d400954"
      },
      "source": [
        "####  1. 우리나라 행정구역 경계 데이터 다운로드하기\n",
        "- https://github.com/southkorea/southkorea-maps\n",
        "- **Provinces (시도)** :  skorea-provinces-2018-geo.json  \n",
        "- **Municipalities (시군구)** : skorea-municipalities-2018-geo.json"
      ]
    },
    {
      "cell_type": "markdown",
      "id": "54996bce",
      "metadata": {
        "id": "54996bce"
      },
      "source": [
        "#### 2. 우리나라 행정구역 시/도 경계 표시하기"
      ]
    },
    {
      "cell_type": "markdown",
      "source": [
        "open( )함수에 들어가는 속성들\n",
        "\n",
        "1. file경로(필수): 열려는 파일(문자열)의 경로\n",
        "\n",
        "    예: 'example.txt', 'C:\\\\path\\\\to\\\\file.txt', '/home/user/file.txt'.\n",
        "\n",
        "2. mode (선택 사항): 파일이 열리는 모드를 지정하는 문자열\n",
        "```\n",
        "`r': 읽기(기본값). 읽기 전용\n",
        "`w': 쓰기 위해 파일열기\n",
        "`a': 추가하기. 쓰기 위해 파일을 열고 파일이 있으면 끝에 추가\n",
        "`b': 바이너리 모드. 바이너리 형식(예: 'rb', 'wb'`)의 파일을 열기 위해 다른 모드와 함께 사용\n",
        "`t': 텍스트 모드(기본값). 다른 모드와 함께 사용하여 텍스트 형식(예: 'rt', 'wt'`)의 파일열기\n",
        "`+': 업데이트 모드. 읽고 쓰기 위해 파일을 엽니다(예: 'r+', 'w+', 'a+'`).\n",
        "```\n",
        "3. 버퍼링(선택 사항): 버퍼링 정책을 설정하는 데 사용되는 정수\n",
        "    - 0: 버퍼링 없음(바이너리 모드에서만 허용됨).\n",
        "    - 1: 라인 버퍼링(텍스트 모드에서만 사용 가능).\n",
        "    - 기타 양의 정수: 버퍼 크기를 지정합니다.\n",
        "\n",
        "4. 인코딩(선택 사항): 텍스트 파일에 사용할 인코딩을 지정하는 문자열\n",
        "    예: 'utf-8', 'ascii', 'latin-1'.\n",
        "\n",
        "5. 오류(선택 사항): 인코딩 및 디코딩 오류를 처리하는 방법을 지정하는 문자열.\n",
        "\n",
        "    일반적인 값에는 strict'', ignore'`, ``replace''가 포함됩니다.\n",
        "\n",
        "6. 줄 바꿈(선택 사항): 범용 개행 모드 작동 방식을 제어(텍스트 모드에서 사용 가능).\n",
        "    None, '', '\\n', '\\r' 또는 '\\r\\n'\n",
        "\n",
        "7. closefd(선택 사항): true or false. 'False'로 설정하면 파일이 닫힐 때 기본 파일 설명자가 닫히지 않음. 유닉스에서만 사용\n",
        "\n",
        "8. 오프너(선택 사항):\n",
        "\n",
        "맞춤형 오프너. 열린 파일 설명자를 반환하는 콜러블이어야 합니다."
      ],
      "metadata": {
        "id": "4VTllsbCWdRZ"
      },
      "id": "4VTllsbCWdRZ"
    },
    {
      "cell_type": "markdown",
      "source": [
        "[우리나라 경계구역 geoJson파일 받기](https://drive.google.com/file/d/1pMLnzUnRVg2S5_muiZ5h8O4eAfzGQ__f/view?usp=sharing)"
      ],
      "metadata": {
        "id": "cr2XW3RJ_T3q"
      },
      "id": "cr2XW3RJ_T3q"
    },
    {
      "cell_type": "code",
      "execution_count": null,
      "id": "3aeae140",
      "metadata": {
        "scrolled": true,
        "id": "3aeae140"
      },
      "outputs": [],
      "source": [
        "import folium\n",
        "import json\n",
        "\n",
        "file = ''\n",
        "# 'skorea-provinces-2018-geo.json' 파일의 경로를 붙여넣기 하세요\n",
        "\n",
        "rfile =\n",
        "#utf-8로 인코딩하고 읽어서 저장\n",
        "\n",
        "jsonData =\n",
        "#json문자열을 분석하여 python 딕셔너리 파일로 변환\n",
        "\n",
        "m = folium.Map(location=data['성일고'], zoom_start=10)\n",
        "#열고싶은 위치와 지도 크기\n",
        "\n",
        "folium.GeoJson( ).add_to(m)\n",
        "\n",
        "m\n",
        "m.save('/content/sample_data/map_line.html')"
      ]
    },
    {
      "cell_type": "markdown",
      "id": "344673fd",
      "metadata": {
        "id": "344673fd"
      },
      "source": [
        "# [실습] 서울특별시 구 별 인구수 지도에 시각화하기"
      ]
    },
    {
      "cell_type": "markdown",
      "id": "d4ff999c",
      "metadata": {
        "id": "d4ff999c"
      },
      "source": [
        "#### 1. 데이터 준비하기\n",
        "\n",
        "-  행정구역 geocode데이터(json):\n",
        "-- https://github.com/raqoon886/Local_HangJeongDong   <br>\n",
        "-- hangjeongdong_서울특별시.geojson\n",
        " <br><br>\n",
        "\n",
        "- 행정구역별 인구 데이터(csv):\n",
        "-- https://jumin.mois.go.kr/index.jsp\n",
        "-- 서울특별시/시·군·구/전체\n",
        "-- 전체시군구 현황\n",
        "-- 202407_202407_주민등록인구및세대현황_월간.csv\n"
      ]
    },
    {
      "cell_type": "markdown",
      "source": [
        "[서울인구데이터 다운로드](https://drive.google.com/file/d/19tCwX9VYyypsyL3ffMzTKqPqlC3w0W-X/view?usp=sharing)"
      ],
      "metadata": {
        "id": "e7QrwVvXSw6N"
      },
      "id": "e7QrwVvXSw6N"
    },
    {
      "cell_type": "markdown",
      "id": "c25407b9",
      "metadata": {
        "id": "c25407b9"
      },
      "source": [
        "#### 2. 데이터 전처리하기\n",
        "행정구역별 인구 데이터 필요한 부분만 추출하여 파일로 만들기"
      ]
    },
    {
      "cell_type": "code",
      "execution_count": null,
      "id": "05090f26",
      "metadata": {
        "id": "05090f26"
      },
      "outputs": [],
      "source": [
        "import pandas as pd\n",
        "#판다스 라이브러리와 인구데이터 불러오기\n",
        "file = ''\n",
        "df = pd.read_csv(file, encoding='euc-kr')\n"
      ]
    },
    {
      "cell_type": "code",
      "source": [
        "#원본 보존을 위해 복제본 생성"
      ],
      "metadata": {
        "id": "qeKx9yKLJ2vR"
      },
      "id": "qeKx9yKLJ2vR",
      "execution_count": null,
      "outputs": []
    },
    {
      "cell_type": "code",
      "execution_count": null,
      "id": "44ac0b62",
      "metadata": {
        "id": "44ac0b62"
      },
      "outputs": [],
      "source": [
        "# 불필요한 행 제거\n",
        "df_t.drop( )\n",
        "\n",
        "# 첫째행 삭제(drop())\n",
        "# inplace = True 는 복사본을 안만들고 직접수정\n",
        "df_t.head()"
      ]
    },
    {
      "cell_type": "code",
      "execution_count": null,
      "id": "caeae5b8",
      "metadata": {
        "id": "caeae5b8"
      },
      "outputs": [],
      "source": [
        "# 불필요한 열 제거\n",
        "df_t.drop( ) # axis 1은 세로/0은 가로, 특정 컬럼 삭제\n",
        "\n",
        "df_t.head()"
      ]
    },
    {
      "cell_type": "code",
      "source": [
        "# 컬럼명 변경\n",
        "df_t.columns =\n",
        "df_t.head()"
      ],
      "metadata": {
        "id": "Dsf05SdHjzGP"
      },
      "id": "Dsf05SdHjzGP",
      "execution_count": null,
      "outputs": []
    },
    {
      "cell_type": "code",
      "source": [
        "# 행정구역 시, 군 분리하기\n",
        "# 특정 위치에 컬럼 추가\n",
        "df_t.insert() # 인덱스 1 위치에 추가 [서울특별시, (1)서울특별시, (2)00구]\n",
        "df_t.insert() # 인덱스 2 위치에 추가\n",
        "\n",
        "df_t.head()"
      ],
      "metadata": {
        "id": "0Oi4cDDXM0-I"
      },
      "id": "0Oi4cDDXM0-I",
      "execution_count": null,
      "outputs": []
    },
    {
      "cell_type": "code",
      "execution_count": null,
      "id": "201bc080",
      "metadata": {
        "id": "201bc080"
      },
      "outputs": [],
      "source": [
        "# 최종 불필요한 컬럼 제거\n",
        "df_t.drop( ) # 특정 컬럼 삭제\n",
        "df_t.head(2)"
      ]
    },
    {
      "cell_type": "markdown",
      "source": [
        "- df_t['total']: DataFrame df_t의 'total' 열을 선택합니다.\n",
        "\n",
        "- .str.replace(): Pandas Series의 문자열 메서드로 문자열 바꾸기를 수행합니다.\n",
        "\n",
        "- pat=r',': 바꿀 패턴을 정규 표현식으로 지정합니다. 여기서는 쉼표(,)를 나타냅니다.\n",
        "\n",
        "- repl=r'': 쉼표를 바꿀 문자열을 지정합니다. 여기서는 빈 문자열('')을 사용하여 쉼표를 제거합니다.\n",
        "\n",
        "- regex=True: pat 매개변수에 전달된 패턴이 정규 표현식임을 나타냅니다."
      ],
      "metadata": {
        "id": "rtEUiRDeN05S"
      },
      "id": "rtEUiRDeN05S"
    },
    {
      "cell_type": "code",
      "source": [
        "# df_t의 'total' 열에 있는 모든 쉼표(,)를 빈 문자열('')로 바꿈\n",
        "\n",
        "\n",
        "df_t.head()"
      ],
      "metadata": {
        "id": "PcPF5grbkN2V"
      },
      "id": "PcPF5grbkN2V",
      "execution_count": null,
      "outputs": []
    },
    {
      "cell_type": "code",
      "execution_count": null,
      "id": "1200af41",
      "metadata": {
        "id": "1200af41"
      },
      "outputs": [],
      "source": [
        "# 정제 데이터 파일로 저장하기\n",
        "file = '' #경로설정\n",
        "df_t.to_csv(file)"
      ]
    },
    {
      "cell_type": "markdown",
      "id": "34df312c",
      "metadata": {
        "id": "34df312c"
      },
      "source": [
        "#### 3. 지도에 표시하기"
      ]
    },
    {
      "cell_type": "code",
      "execution_count": null,
      "id": "7649d7f7",
      "metadata": {
        "id": "7649d7f7"
      },
      "outputs": [],
      "source": [
        "import pandas as pd\n",
        "\n",
        "# 정제한 행정구역별 인구 데이터 불러오기.\n",
        "df_t =\n",
        "df_t\n"
      ]
    },
    {
      "cell_type": "code",
      "source": [
        "#\tUnnamed: 0 삭제\n",
        "df_t.drop()\n",
        "df_t"
      ],
      "metadata": {
        "id": "Ud-aUqSvlGjl"
      },
      "id": "Ud-aUqSvlGjl",
      "execution_count": null,
      "outputs": []
    },
    {
      "cell_type": "code",
      "source": [
        "#geoJson파일 불러오기\n",
        "import json\n",
        "file = ''\n",
        "\n",
        "with open(file, 'r', encoding='utf-8') as f:\n",
        "    geo_data = json.load(f)"
      ],
      "metadata": {
        "id": "3xWnWnsYKXwQ"
      },
      "execution_count": null,
      "outputs": [],
      "id": "3xWnWnsYKXwQ"
    },
    {
      "cell_type": "code",
      "source": [
        "geo_data"
      ],
      "metadata": {
        "id": "aEHOElSgNFiU"
      },
      "execution_count": null,
      "outputs": [],
      "id": "aEHOElSgNFiU"
    },
    {
      "cell_type": "markdown",
      "source": [
        "- geo_data : 지리데이터  GeoJSON 파일경로\n",
        "- name : 레이어의 이름\n",
        "- data : 시각화 하려는 데이터프레임\n",
        "- columns : 지리적 식별자 데이터 값 (튜플형태)\n",
        "- key_on : 데이터의 열과 일치시킬 geojson파일의 키\n",
        "\n",
        "    - key_on: feature는 GeoJSON의 각 지리적 지형지물을 의미하고, properties는 각 지형지물의 속성을 의미하며, adm_nm은 일치에 사용되는 특정 속성입니다.\n",
        "- fill_color : 채우기 색상 'YlGn', 'BuPu', 'RdPu'\n",
        "- fill_opacity: 불투명도 값 0~1  (기본 0.6)\n",
        "- line_color: 지리적영역 경계색상\n",
        "- line_opacity: 선의 불투명도 (0~1)\n",
        "- legend_name: 범례이름\n",
        "- highlight: 강조표시 True로 설정하면 마우스 올릴때 표시\n",
        "- bins: 값을 분류하기 위한 값. 제공되지 않은 경우 값은 동일한 간격으로 나\n",
        "- reset: True로 설정하면 지도의 위치와 확대/축소가 재설정\n",
        "- overlay: 'True'로 설정하면 등치도 오버레이로 추가 (기본값 True)\n",
        "- nan_fill_color:데이터가 누락된 영역의 색상\n",
        "- nan_fill_opacity:데이터가 누락된 영역의 불투명도"
      ],
      "metadata": {
        "id": "RBv06LC9oVbl"
      },
      "id": "RBv06LC9oVbl"
    },
    {
      "cell_type": "markdown",
      "source": [
        "순차적 색 구성표(낮은 것에서 높은 것으로 진행되는 정렬된 데이터의 경우):\n",
        "\n",
        "- ``YlGn''(황록색)\n",
        "- ``YlGnBu''(황록색-청색)\n",
        "- ``GnBu''(녹색-청색)\n",
        "- ``BuGn''(청록색)\n",
        "- ``PuBuGn''(보라색-파란색-녹색)\n",
        "- ``BuPu'' (파란색-보라색)\n",
        "- ``RdPu''(빨간색-보라색)\n",
        "- ``PuRd'' (보라색-빨간색)\n",
        "- ``OrRd''(주황색-빨간색)\n",
        "- ``YlOrRd'`(노란색-주황색-빨간색)\n",
        "- 'YlOrBr'(노란색-주황색-갈색)\n",
        "\n",
        "다양한 색상 구성표(0과 같이 의미 있는 중간점이 있는 데이터의 경우):\n",
        "\n",
        "- ``PiYG'' (핑크-옐로우-그린)\n",
        "- ``PRGn''(보라색-녹색)\n",
        "- ``BrBG''(갈색-청록색)\n",
        "- ``RdBu''(빨간색-파란색)\n",
        "- ``RdGy'' (적색-회색)\n",
        "- ``RdYlBu''(빨간색-노란색-파란색)\n",
        "- ``RdYlGn'`(빨간색-노란색-녹색)\n",
        "- ``Spectral'' (스펙트럴)"
      ],
      "metadata": {
        "id": "2hlxhXmMSTER"
      },
      "id": "2hlxhXmMSTER"
    },
    {
      "cell_type": "markdown",
      "source": [
        "geodata 경로 확인\n",
        "```\n",
        "{'type': 'FeatureCollection',\n",
        " 'name': 'temp',\n",
        " 'crs': {'type': 'name',\n",
        "  'properties': {'name': 'urn:ogc:def:crs:OGC:1.3:CRS84'}},\n",
        " 'features': [{'type': 'Feature',\n",
        "   'properties': {'OBJECTID': 2014,\n",
        "    'adm_nm': '충청남도 천안시동남구 목천읍',\n",
        "    'adm_cd': '3401111',\n",
        "    'adm_cd2': '4413125000',\n",
        "    'sgg': '44131',\n",
        "    'sido': '44',\n",
        "    'sidonm': '충청남도',\n",
        "    'sggnm': '천안시동남구'},\n",
        "   'geometry': {'type': 'MultiPolygon',\n",
        "    'coordinates': [[[[127.25463712744555, 36.76159612945158],\n",
        "\n",
        "```"
      ],
      "metadata": {
        "id": "YXpsPsmTQYKH"
      },
      "id": "YXpsPsmTQYKH"
    },
    {
      "cell_type": "code",
      "source": [
        "help(folium.Choropleth)"
      ],
      "metadata": {
        "id": "7jhTRFHDEHgI"
      },
      "id": "7jhTRFHDEHgI",
      "execution_count": null,
      "outputs": []
    },
    {
      "cell_type": "code",
      "source": [
        "import folium\n",
        "\n",
        "# 서울시 중심부의 위도, 경도\n",
        "loc = [127.1834, 36.7303]\n",
        "\n",
        "# 맵이 center 에 위치하고, zoom 레벨은 11로 시작하는 맵 m을 만듭니다.\n",
        "m = folium.Map()\n",
        "\n",
        "#m"
      ],
      "metadata": {
        "id": "afaqIcnBK2rf"
      },
      "execution_count": null,
      "outputs": [],
      "id": "afaqIcnBK2rf"
    },
    {
      "cell_type": "code",
      "source": [
        "folium.Choropleth(geo_data = ,   # geodata 경로\n",
        "                 name='',      # 레이어 이름\n",
        "                 data = ,            # 시각화 하려는 데이터프레임\n",
        "                 columns = (), # 지리적 식별자 데이터 값 (튜플형태)\n",
        "                 key_on = '', # 데이터의 열과 일치시킬 geojson파일의 키\n",
        "                 color = '',          # 지리적영역 경계색상\n",
        "                 fill_color = '',         # 채우기 색상 'YlGn', 'BuPu', 'RdPu'\n",
        "                 fill_opacity = ,        # 불투명도 값 0~1  (기본 0.6)\n",
        "                 line_opacity = ,        # 선의 불투명도 (0~1)\n",
        "                 legend_name = '서울특별시 행정구역별 인구수', # 범례이름\n",
        "                 highlight = True         # 강조표시 True로 설정하면 마우스 올릴때 표시\n",
        "                 ).add_to(m)\n",
        "\n",
        "m\n"
      ],
      "metadata": {
        "id": "y5jC0lU7FzeR"
      },
      "id": "y5jC0lU7FzeR",
      "execution_count": null,
      "outputs": []
    },
    {
      "cell_type": "code",
      "source": [
        "#저장하기\n",
        "m.save('seoul_Population.html')"
      ],
      "metadata": {
        "id": "o-uDlAcnK_Wi"
      },
      "execution_count": null,
      "outputs": [],
      "id": "o-uDlAcnK_Wi"
    },
    {
      "cell_type": "markdown",
      "source": [
        "\n",
        "\n",
        "---\n",
        "\n"
      ],
      "metadata": {
        "id": "cFOxRaYdUBP0"
      },
      "id": "cFOxRaYdUBP0"
    }
  ],
  "metadata": {
    "kernelspec": {
      "display_name": "Python 3 (ipykernel)",
      "language": "python",
      "name": "python3"
    },
    "language_info": {
      "codemirror_mode": {
        "name": "ipython",
        "version": 3
      },
      "file_extension": ".py",
      "mimetype": "text/x-python",
      "name": "python",
      "nbconvert_exporter": "python",
      "pygments_lexer": "ipython3",
      "version": "3.9.10"
    },
    "colab": {
      "provenance": [],
      "include_colab_link": true
    }
  },
  "nbformat": 4,
  "nbformat_minor": 5
}